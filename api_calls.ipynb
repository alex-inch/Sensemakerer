{
 "cells": [
  {
   "cell_type": "code",
   "execution_count": 1,
   "metadata": {},
   "outputs": [],
   "source": [
    "import os\n",
    "import openai\n",
    "from openai.openai_object import OpenAIResponse\n",
    "import pickle\n",
    "openai.api_key = os.getenv('OPENAI_API_KEY')"
   ]
  },
  {
   "cell_type": "code",
   "execution_count": 2,
   "metadata": {},
   "outputs": [],
   "source": [
    "sensemaker_model = 'davinci:ft-personal:sensemakerer-2023-02-12-02-04-12'"
   ]
  },
  {
   "cell_type": "code",
   "execution_count": 3,
   "metadata": {},
   "outputs": [],
   "source": [
    "def get_response(model: str, prompt: str, max_tokens=200) -> OpenAIResponse:\n",
    "    response = openai.Completion.create(\n",
    "        model=model,\n",
    "        prompt=f\"{prompt}\\n\\n###\\n\\n\",\n",
    "        stop=['###'],\n",
    "        max_tokens=max_tokens\n",
    "    )\n",
    "\n",
    "    return response\n",
    "\n",
    "def print_response(response: OpenAIResponse) -> None:\n",
    "    text = response.to_dict()['choices'][0].to_dict()['text']\n",
    "    print(text.strip())"
   ]
  },
  {
   "cell_type": "code",
   "execution_count": 4,
   "metadata": {},
   "outputs": [],
   "source": [
    "responses = []"
   ]
  },
  {
   "cell_type": "code",
   "execution_count": 41,
   "metadata": {},
   "outputs": [],
   "source": [
    "re = get_response(sensemaker_model, \"Asteroid lights up sky\", max_tokens=500)\n",
    "responses.append(re)"
   ]
  },
  {
   "cell_type": "code",
   "execution_count": 42,
   "metadata": {},
   "outputs": [
    {
     "name": "stdout",
     "output_type": "stream",
     "text": [
      "Asteroid lights up sky. It looks like a point of light. Planet-bound, 400 times the distance between the Earth and the Sun, it’s officially known as asteroid 4569 Belem. Last night, it blazed through the night sky in an unannounced act of celestial performance art: the Space Hopper.\n",
      "\n",
      "What? The hoop of light – caused by the reflection of light from the asteroid’s surface – was spotted from Arizona by a photographer shooting the Orionid meteor shower. It’s unlikely to be a hoax, but there’s still plenty for sceptics to scoff at:\n",
      " Silly name. The Hopper is well-established among amateur astronomers and has been observed since 1999, but its title recalls a quip made by the former US defence secretary William Cohen: when it comes to stopping asteroids, we just don’t have a cow big enough.\n",
      " Other cows. In 2017, Donald Trump’s habit of re-tweeting fake news (well, news he found interesting) led to the creation of his very own space rock, orbiting the Sun between the Asteroids and Jupiter. It was christened after his hairstyle, the ‘Flippy Doo’.\n",
      " The plot thickens. Some believe Earth was hit by a slow-moving asteroid about 6,000 years ago. Some believe it was hit by a slow-moving planet. “We can neither confirm nor deny that Hubert Mars, great-grandfather of Augustus, was in fact Hubert Asteroid,” Alan Toner, a self-described mythologist, tells the Times.\n",
      "\n",
      "Indirect threats. There’s a worrying discrepancy between how many asteroids, large and small, we can track from Earth and how many we can intercept. We can track a lot. We can shoot at a select few, but not soon enough to prevent a devastating impact. So a team of technologists has been creating methods to deflect or shield Earth from incoming asteroids. These plans include:\n",
      " Sending a spacecraft to land on the asteroid and blow it up.\n",
      " Impulsive berthing, where a spacecraft would suddenly fly to within inches of an asteroid and slowly push it off course.\n",
      " Magnetic sails, which are placed in front of a spacecraft and reflect sunlight onto the asteroid. The sunlight heats the asteroid and boils off some of the small dust particles surrounding it, pushing the main body of the asteroid off\n"
     ]
    }
   ],
   "source": [
    "print_response(re)"
   ]
  },
  {
   "cell_type": "code",
   "execution_count": 11,
   "metadata": {},
   "outputs": [
    {
     "name": "stdout",
     "output_type": "stream",
     "text": [
      "Tortoise’s Global AI Index shifts narrative. When the international affairs think tank Tortoise published its AI index last year, there was little reason to suppose it would become one of the most influential new assessments of global progress. But instead, the Global AI Index – or Gaxi for short – quickly became the Rosetta Stone for how to make sense of a staggeringly complex transition from human to digital intelligence.\n",
      "\n",
      "“We thought we would be useful for ministers and heads of international organisations for whom we could summarise complex information about their countries in a simple ranking,” Tortoise’s founder and executive chairman, Francis Gurtraff, tells Tortoise Weekly.\n",
      "\n",
      "A year on, Tortoise’s Gaxi report is one of the fastest rising publications in history (#536, according to statistics website Semantic GM).\n",
      "\n",
      "For context, 7 million books were published between 2010 and 2019. The most popular of all time – The Lord of the Rings – sold 250 million copies.\n",
      "\n",
      "In that same period, more than 35,000 research papers and doctoral theses were published in China alone.\n",
      "\n",
      "It's no surprise then that Gaxi has upended the global conversation about whether smart machines deliver progress by looking at what actually happens to people when smart systems are deployed in their lives. In other words: correlation, not causation.\n",
      "\n",
      "The index provides a measure of how AI serves top-down (government) or bottom-up (business) goals at the national level and highlights\n",
      " individual, developmental and cognitive impacts;\n",
      " multi- and trans-sectoral linkages between AI and human decision-making;\n",
      " capacity for strategies to adapt to change; and\n",
      " “moral” risks of entrusting decisions to machines (most notably, data bias and human jobs where human oversight is not possible).\n",
      "\n",
      "The Gaxi formula works. Low scores correlate strongly with real-world problems, as Tortoise has found in subsequent research. Read on for more detail\n"
     ]
    }
   ],
   "source": [
    "# Add any new responses to a pickle file, to save\n",
    "# responses between sessions\n",
    "with open('responses.pkl', 'rb') as f:\n",
    "    all_responses: list[OpenAIResponse] = pickle.load(f)\n",
    "    for resp in responses:\n",
    "        if resp in all_responses:\n",
    "            continue\n",
    "        all_responses.append(resp)\n",
    "\n",
    "with open('responses.pkl', 'wb') as f:\n",
    "    pickle.dump(all_responses, f)\n",
    "\n",
    "print_response(all_responses[1])"
   ]
  },
  {
   "cell_type": "code",
   "execution_count": null,
   "metadata": {},
   "outputs": [],
   "source": []
  }
 ],
 "metadata": {
  "kernelspec": {
   "display_name": "intelligence",
   "language": "python",
   "name": "python3"
  },
  "language_info": {
   "codemirror_mode": {
    "name": "ipython",
    "version": 3
   },
   "file_extension": ".py",
   "mimetype": "text/x-python",
   "name": "python",
   "nbconvert_exporter": "python",
   "pygments_lexer": "ipython3",
   "version": "3.10.4"
  },
  "orig_nbformat": 4,
  "vscode": {
   "interpreter": {
    "hash": "ad191cfbf0a8581ccb64bebc713710259fb819e8ffc7cac45059827a36c9eca5"
   }
  }
 },
 "nbformat": 4,
 "nbformat_minor": 2
}
