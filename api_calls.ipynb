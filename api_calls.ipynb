{
 "cells": [
  {
   "cell_type": "code",
   "execution_count": 37,
   "metadata": {},
   "outputs": [],
   "source": [
    "import os\n",
    "import openai\n",
    "from openai.openai_object import OpenAIResponse\n",
    "import pickle\n",
    "openai.api_key = os.getenv('OPENAI_API_KEY')"
   ]
  },
  {
   "cell_type": "code",
   "execution_count": 38,
   "metadata": {},
   "outputs": [],
   "source": [
    "sensemaker_model = 'davinci:ft-personal:sensemakerer-2023-02-12-02-04-12'"
   ]
  },
  {
   "cell_type": "code",
   "execution_count": 39,
   "metadata": {},
   "outputs": [],
   "source": [
    "def get_response(model: str, prompt: str, max_tokens=200) -> OpenAIResponse:\n",
    "    response = openai.Completion.create(\n",
    "        model=model,\n",
    "        prompt=f\"{prompt}\\n\\n###\\n\\n\",\n",
    "        stop=['###'],\n",
    "        max_tokens=max_tokens\n",
    "    )\n",
    "\n",
    "    return response\n",
    "\n",
    "def print_response(response: OpenAIResponse) -> None:\n",
    "    text = response.to_dict()['choices'][0].to_dict()['text']\n",
    "    print(text.strip())"
   ]
  },
  {
   "cell_type": "code",
   "execution_count": 40,
   "metadata": {},
   "outputs": [
    {
     "data": {
      "text/plain": [
       "[<OpenAIObject text_completion id=cmpl-6iw9khonPhWoVzIlom9avo3XbBTYY at 0x1283fbec0> JSON: {\n",
       "   \"choices\": [\n",
       "     {\n",
       "       \"finish_reason\": \"length\",\n",
       "       \"index\": 0,\n",
       "       \"logprobs\": null,\n",
       "       \"text\": \" Japan wins big at Olympics. This could become Japan\\u2019s gold medal summer. Team Japan struck gold for the first time at the Paralympics in Tokyo on Saturday. There will be further opportunities to pinch their medals at the Winter Olympics, which start next week, and at the World Cup in Qatar in 2022. Then there are the chances to bid for the 2026 World Cup \\u2013 and win.\\n\\nJapan already leads the world in robots and one-seeds in tennis, but there\\u2019s more:\\n\\nNot just tinpot. Japan\\u2019s bid to host the football World Cup was hailed as wonderfully simple at a time when other bids were elaborate and oddly coordinated. It won in a landslide and its chances of staging an excellent tournament are good to excellent.\\n\\nCross training. The Japanese men\\u2019s wheelchair basketball team have been training for the Paralympics for six years.\\n\\nComing through. The player with the most goals in Paralympic football is Yuta Nakashima, a 34-year-old with cerebral palsy who was persuaded to go to a training camp at 17.\\n\\nThat brings us back to the Olympics, and a lesson in how to make it in sports as a young person. \\\"My parents told me I could go [to the training camp],\\u201d Nakashima told the New York Times. \\\"So I went \\u2013 but only to watch. When I got there, the coaches persuaded me to play, saying \\u2018let\\u2019s give it a try\\u2019. I\\u2019m glad I listened.\\u201d\\n\\nThe camp was for potential Paralympic players. Nakashima went on to score a hat trick in his third tournament for Japan. This year he led the race for top goalscorer with 17 in six games.\\n\\nA note on the Japanese team in Doha: there are no quotas or extra funding for the country\\u2019s disabled players. They\\u2019re all athletes, period, picking themselves to represent the land of the rising sun. Nineteen-year-old Musashi Mizuno already has 10 Paralympic medals, while in the over-16s group the team includes a 72-year-old goalkeeper who used to play for Brazil.\\n\\nThe samba beat. In Tokyo last month, Team GB\\u2019s Chef de Mission Liz McCollel said the UK was \\u201cnot in the same league\\u201d\"\n",
       "     }\n",
       "   ],\n",
       "   \"created\": 1676168004,\n",
       "   \"id\": \"cmpl-6iw9khonPhWoVzIlom9avo3XbBTYY\",\n",
       "   \"model\": \"davinci:ft-personal:sensemakerer-2023-02-12-02-04-12\",\n",
       "   \"object\": \"text_completion\",\n",
       "   \"usage\": {\n",
       "     \"completion_tokens\": 500,\n",
       "     \"prompt_tokens\": 9,\n",
       "     \"total_tokens\": 509\n",
       "   }\n",
       " },\n",
       " <OpenAIObject text_completion id=cmpl-6iwDk1SftYt8FqeywJfkxM81WG0cY at 0x128929670> JSON: {\n",
       "   \"choices\": [\n",
       "     {\n",
       "       \"finish_reason\": \"stop\",\n",
       "       \"index\": 0,\n",
       "       \"logprobs\": null,\n",
       "       \"text\": \" Tortoise\\u2019s Global AI Index shifts narrative. When the international affairs think tank Tortoise published its AI index last year, there was little reason to suppose it would become one of the most influential new assessments of global progress. But instead, the Global AI Index \\u2013 or Gaxi for short \\u2013 quickly became the Rosetta Stone for how to make sense of a staggeringly complex transition from human to digital intelligence.\\n\\n\\u201cWe thought we would be useful for ministers and heads of international organisations for whom we could summarise complex information about their countries in a simple ranking,\\u201d Tortoise\\u2019s founder and executive chairman, Francis Gurtraff, tells Tortoise Weekly.\\n\\nA year on, Tortoise\\u2019s Gaxi report is one of the fastest rising publications in history (#536, according to statistics website Semantic GM).\\n\\nFor context, 7 million books were published between 2010 and 2019. The most popular of all time \\u2013 The Lord of the Rings \\u2013 sold 250 million copies.\\n\\nIn that same period, more than 35,000 research papers and doctoral theses were published in China alone.\\n\\nIt's no surprise then that Gaxi has upended the global conversation about whether smart machines deliver progress by looking at what actually happens to people when smart systems are deployed in their lives. In other words: correlation, not causation.\\n\\nThe index provides a measure of how AI serves top-down (government) or bottom-up (business) goals at the national level and highlights\\n individual, developmental and cognitive impacts;\\n multi- and trans-sectoral linkages between AI and human decision-making;\\n capacity for strategies to adapt to change; and\\n \\u201cmoral\\u201d risks of entrusting decisions to machines (most notably, data bias and human jobs where human oversight is not possible).\\n\\nThe Gaxi formula works. Low scores correlate strongly with real-world problems, as Tortoise has found in subsequent research. Read on for more detail\"\n",
       "     }\n",
       "   ],\n",
       "   \"created\": 1676168252,\n",
       "   \"id\": \"cmpl-6iwDk1SftYt8FqeywJfkxM81WG0cY\",\n",
       "   \"model\": \"davinci:ft-personal:sensemakerer-2023-02-12-02-04-12\",\n",
       "   \"object\": \"text_completion\",\n",
       "   \"usage\": {\n",
       "     \"completion_tokens\": 411,\n",
       "     \"prompt_tokens\": 13,\n",
       "     \"total_tokens\": 424\n",
       "   }\n",
       " },\n",
       " <OpenAIObject text_completion id=cmpl-6iwQqsPqz9mQmdqawe4Prr4pVOx60 at 0x1058e09a0> JSON: {\n",
       "   \"choices\": [\n",
       "     {\n",
       "       \"finish_reason\": \"length\",\n",
       "       \"index\": 0,\n",
       "       \"logprobs\": null,\n",
       "       \"text\": \" Zuckerberg loses trousers. Is anything private online, even an Instagram post? Vladislav Zlujev thought not when he hacked Facebook founder Mark Zuckerberg\\u2019s account and posted images of him pulling down his trousers in front of colleagues and a nude selfie, with this text: \\u201cDouble standards\\u201d\\n\\nThe pictures have been deleted from Instagram, where Zuckerberg\\u2019s original post remained up \\u2013 but only after a delay of almost 24 hours in which the story was picked up across the world.\\n\\nThe backstory. Zlujev is a controversial Ukrainian opposition blogger. In a Facebook post not entirely in character, he said the hack was retaliation for Facebook\\u2019s alleged stripping and doctored images of a protest in Kyiv. Zuckerberg, he wrote, had the \\u201cprivilege of being described as the founder of a $1.7-trillion company and the boss who, according to the journalists, had an active role in censoring Ukrainian peaceful protesters\\u201d.\\n\\nQuestions.If Zlujev did indeed hack Zuckerberg\\u2019s account this was a neat and all-too-rare example of online meting out of online justice.If he didn\\u2019t, how did the images end up on Facebook? By what process \\u2013 human or algorithmic \\u2013 were they highlighted for approval or sharing by Zuckerberg, who at the time was travelling in China?And what happened to them before they were deleted? A Facebook spokesperson declined to answer most of the above but sent this statement: \\u201cWe investigated the hack and took down the photos. That account was also temporarily suspended and we emailed the legitimate owner.\\u201d\\n\\nResponses.The company\\u2019s mea culpa might have been more immediate but for the Chinese authorities\\u2019 preoccupation with the story. An insider says Facebook was \\u201cterrified\\u201d of Chinese authorities targeting its operations there. Some commentators resorted to satire (the writer Orli Matlow: \\u201cDon\\u2019t get me wrong, I\\u2019d totally let Mark Zuckerberg take a photo of me taking a photo of him taking a photo of himself taking a photo of himself\\u201d), but most were appalled. The former digital minister Matt Hancock called it a \\u201cnasty episode\\u201d and said he might reopen an old investigation into Facebook as a digital public space. Sheryl Sandberg, Facebook\\u2019s COO and chairman-in-waiting, said nothing\"\n",
       "     }\n",
       "   ],\n",
       "   \"created\": 1676169064,\n",
       "   \"id\": \"cmpl-6iwQqsPqz9mQmdqawe4Prr4pVOx60\",\n",
       "   \"model\": \"davinci:ft-personal:sensemakerer-2023-02-12-02-04-12\",\n",
       "   \"object\": \"text_completion\",\n",
       "   \"usage\": {\n",
       "     \"completion_tokens\": 500,\n",
       "     \"prompt_tokens\": 9,\n",
       "     \"total_tokens\": 509\n",
       "   }\n",
       " },\n",
       " <OpenAIObject text_completion id=cmpl-6iwT4ODHBqmhDRjpZcR8lP6ZAGKfb at 0x1289f3c90> JSON: {\n",
       "   \"choices\": [\n",
       "     {\n",
       "       \"finish_reason\": \"stop\",\n",
       "       \"index\": 0,\n",
       "       \"logprobs\": null,\n",
       "       \"text\": \" Come fly with me, Vladimir Putin. The Russian president is due in Scotland tomorrow for his first official overseas trip since the war in Ukraine began. He will visit a UK nuclear submarine base in Glasgow and the Rolls-Royved and Jagger-owned Carnoustie golf course in Angus, about 35 miles from Edinburgh. The trip will \\u201cprovoke\\u201d Ukraine, the Scottish National Party said yesterday. It\\u2019s likely to, anyway.\\n\\nPutin\\u2019s visit is ostensibly about security \\u2013 he meets the defence secretary tomorrow and the foreign secretary Monday \\u2013 but Sophie Walker, the Labour leader, said it will \\u201camplify the impression that the UK is becoming a real source of reassurance for those who want an alternative to the Putin regime\\u201d. That would be China. As one former minister said: \\u201cthe Chinese are delighted with this visit and, more than that, delighted that there are now two competing power centres right on their border.\\u201d\\n\\nOne question. What will Putin say when he takes the stage at a concert in Edinburgh later this month, organised by the Russian state-backed Mariinsky Theatre? His visit will coincide with the Edinburgh International Festival\\u2019s welcome of the St Petersburg Chamber Orchestra, whose leader founded Pro Kraina, the foundation established in 2014 to support Putin\\u2019s operations in the Ukraine.\\n\\n\\u201cWhat might he say?\\u201d the ex-minister said. \\u201cHe\\u2019ll reprise his favourite lines from 2014, on the Nato encirclement of Russia. They will cheer, those Putin fans.\\u201d Another former minister said\"\n",
       "     }\n",
       "   ],\n",
       "   \"created\": 1676169202,\n",
       "   \"id\": \"cmpl-6iwT4ODHBqmhDRjpZcR8lP6ZAGKfb\",\n",
       "   \"model\": \"davinci:ft-personal:sensemakerer-2023-02-12-02-04-12\",\n",
       "   \"object\": \"text_completion\",\n",
       "   \"usage\": {\n",
       "     \"completion_tokens\": 332,\n",
       "     \"prompt_tokens\": 10,\n",
       "     \"total_tokens\": 342\n",
       "   }\n",
       " }]"
      ]
     },
     "execution_count": 40,
     "metadata": {},
     "output_type": "execute_result"
    }
   ],
   "source": [
    "responses = []"
   ]
  },
  {
   "cell_type": "code",
   "execution_count": 41,
   "metadata": {},
   "outputs": [],
   "source": [
    "re = get_response(sensemaker_model, \"Asteroid lights up sky\", max_tokens=500)\n",
    "responses.append(re)"
   ]
  },
  {
   "cell_type": "code",
   "execution_count": 42,
   "metadata": {},
   "outputs": [
    {
     "name": "stdout",
     "output_type": "stream",
     "text": [
      "Asteroid lights up sky. It looks like a point of light. Planet-bound, 400 times the distance between the Earth and the Sun, it’s officially known as asteroid 4569 Belem. Last night, it blazed through the night sky in an unannounced act of celestial performance art: the Space Hopper.\n",
      "\n",
      "What? The hoop of light – caused by the reflection of light from the asteroid’s surface – was spotted from Arizona by a photographer shooting the Orionid meteor shower. It’s unlikely to be a hoax, but there’s still plenty for sceptics to scoff at:\n",
      " Silly name. The Hopper is well-established among amateur astronomers and has been observed since 1999, but its title recalls a quip made by the former US defence secretary William Cohen: when it comes to stopping asteroids, we just don’t have a cow big enough.\n",
      " Other cows. In 2017, Donald Trump’s habit of re-tweeting fake news (well, news he found interesting) led to the creation of his very own space rock, orbiting the Sun between the Asteroids and Jupiter. It was christened after his hairstyle, the ‘Flippy Doo’.\n",
      " The plot thickens. Some believe Earth was hit by a slow-moving asteroid about 6,000 years ago. Some believe it was hit by a slow-moving planet. “We can neither confirm nor deny that Hubert Mars, great-grandfather of Augustus, was in fact Hubert Asteroid,” Alan Toner, a self-described mythologist, tells the Times.\n",
      "\n",
      "Indirect threats. There’s a worrying discrepancy between how many asteroids, large and small, we can track from Earth and how many we can intercept. We can track a lot. We can shoot at a select few, but not soon enough to prevent a devastating impact. So a team of technologists has been creating methods to deflect or shield Earth from incoming asteroids. These plans include:\n",
      " Sending a spacecraft to land on the asteroid and blow it up.\n",
      " Impulsive berthing, where a spacecraft would suddenly fly to within inches of an asteroid and slowly push it off course.\n",
      " Magnetic sails, which are placed in front of a spacecraft and reflect sunlight onto the asteroid. The sunlight heats the asteroid and boils off some of the small dust particles surrounding it, pushing the main body of the asteroid off\n"
     ]
    }
   ],
   "source": [
    "print_response(re)"
   ]
  },
  {
   "cell_type": "code",
   "execution_count": 35,
   "metadata": {},
   "outputs": [],
   "source": [
    "with open('responses.pkl', 'rb') as f:\n",
    "    responses_to_save: list[OpenAIResponse] = pickle.load(f)\n",
    "    for resp in responses:\n",
    "        if resp in responses_to_save:\n",
    "            continue\n",
    "        responses_to_save.append(resp)\n",
    "\n",
    "with open('responses.pkl', 'wb') as f:\n",
    "    pickle.dump(responses_to_save, f)"
   ]
  },
  {
   "cell_type": "code",
   "execution_count": null,
   "metadata": {},
   "outputs": [],
   "source": []
  }
 ],
 "metadata": {
  "kernelspec": {
   "display_name": "intelligence",
   "language": "python",
   "name": "python3"
  },
  "language_info": {
   "codemirror_mode": {
    "name": "ipython",
    "version": 3
   },
   "file_extension": ".py",
   "mimetype": "text/x-python",
   "name": "python",
   "nbconvert_exporter": "python",
   "pygments_lexer": "ipython3",
   "version": "3.10.4"
  },
  "orig_nbformat": 4,
  "vscode": {
   "interpreter": {
    "hash": "ad191cfbf0a8581ccb64bebc713710259fb819e8ffc7cac45059827a36c9eca5"
   }
  }
 },
 "nbformat": 4,
 "nbformat_minor": 2
}
